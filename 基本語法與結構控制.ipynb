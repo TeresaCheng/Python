{
 "cells": [
  {
   "cell_type": "markdown",
   "metadata": {},
   "source": [
    "<h1>變數與資料型態</h1>\n",
    "<h1>格式化輸出</h1>\n",
    "<Table align=\"left\" border=\"1\" width=\"50%\">\n",
    "<tbody>\n",
    "<tr>\n",
    "<td style=\"font-family: Courier New,Courier,monospace; width: 85px;\" align=\"left\" valign=\"top\">%% </td>\n",
    "<td style=\"width: 589px;\" align=\"left\" valign=\"top\">在字串\n",
    "中顯示% </td>\n",
    "</tr>\n",
    "<tr>\n",
    "<td style=\"font-family: Courier New,Courier,monospace; width: 85px;\" align=\"left\" valign=\"top\">%d </td>\n",
    "<td style=\"width: 589px;\" align=\"left\" valign=\"top\">以10\n",
    "進位整數方式輸出 </td>\n",
    "</tr>\n",
    "<tr>\n",
    "<td style=\"font-family: Courier New,Courier,monospace; width: 85px;\" align=\"left\" valign=\"top\">%f </td>\n",
    "<td style=\"width: 589px;\" align=\"left\" valign=\"top\">將浮點\n",
    "數以10進位方式輸出 </td>\n",
    "</tr>\n",
    "<tr>\n",
    "<td style=\"font-family: Courier New,Courier,monospace; width: 85px;\" align=\"left\" valign=\"top\">%e,\n",
    "%E </td>\n",
    "<td style=\"width: 589px;\" align=\"left\" valign=\"top\">將浮點\n",
    "數以10進位方式輸出，並使用科學記號 </td>\n",
    "</tr>\n",
    "<tr>\n",
    "<td style=\"font-family: Courier New,Courier,monospace; width: 85px;\" align=\"left\" valign=\"top\">%o </td>\n",
    "<td style=\"width: 589px;\" align=\"left\" valign=\"top\">以8進\n",
    "位整數方式輸出 </td>\n",
    "</tr>\n",
    "<tr>\n",
    "<td style=\"font-family: Courier New,Courier,monospace; width: 85px;\" align=\"left\" valign=\"top\">%x,\n",
    "%X </td>\n",
    "<td style=\"width: 589px;\" align=\"left\" valign=\"top\">將整\n",
    "數以16進位方式輸出 </td>\n",
    "</tr>\n",
    "<tr>\n",
    "<td style=\"font-family: Courier New,Courier,monospace; width: 85px;\" align=\"left\" valign=\"top\">%s </td>\n",
    "<td style=\"width: 589px;\" align=\"left\" valign=\"top\">使用<span style=\"font-family: Courier New,Courier,monospace;\">str()</span>將字串輸出 </td>\n",
    "</tr>\n",
    "<tr>\n",
    "<td style=\"font-family: Courier New,Courier,monospace; width: 85px;\" align=\"left\" valign=\"top\">%c </td>\n",
    "<td style=\"width: 589px;\" align=\"left\" valign=\"top\">以字元\n",
    "方式輸出 </td>\n",
    "</tr>\n",
    "<tr>\n",
    "<td style=\"font-family: Courier New,Courier,monospace; width: 85px;\" align=\"left\" valign=\"top\">%r </td>\n",
    "<td style=\"width: 589px;\" align=\"left\" valign=\"top\">使用<span style=\"font-family: Courier New,Courier,monospace;\">repr()</span>輸\n",
    "出字串</td>\n",
    "</tr>\n",
    "</tbody>\n",
    "</table>\n"
   ]
  },
  {
   "cell_type": "code",
   "execution_count": 1,
   "metadata": {},
   "outputs": [
    {
     "name": "stdout",
     "output_type": "stream",
     "text": [
      "香蕉, 18 斤\n"
     ]
    }
   ],
   "source": [
    "a, b=\"香蕉\", \"18\"\n",
    "print (a+ \",\" , b, \"斤\" )"
   ]
  },
  {
   "cell_type": "code",
   "execution_count": 2,
   "metadata": {},
   "outputs": [
    {
     "name": "stdout",
     "output_type": "stream",
     "text": [
      "3.14\n"
     ]
    }
   ],
   "source": [
    "print(\"{:.2f}\".format(3.1415926));"
   ]
  },
  {
   "cell_type": "code",
   "execution_count": 1,
   "metadata": {},
   "outputs": [
    {
     "name": "stdout",
     "output_type": "stream",
     "text": [
      "請輸入數學成績： ２０\n",
      "數學成績是： ２０\n"
     ]
    }
   ],
   "source": [
    "c=input(\"請輸入數學成績： \")\n",
    "print (\"數學成績是： \"+c)"
   ]
  },
  {
   "cell_type": "markdown",
   "metadata": {},
   "source": [
    "<h2>運算式 + - * / % //(取得整除的商數) **</h2>"
   ]
  },
  {
   "cell_type": "markdown",
   "metadata": {},
   "source": [
    "<h2>判斷式：\n",
    "if/elif else</h2>\n"
   ]
  },
  {
   "cell_type": "code",
   "execution_count": 7,
   "metadata": {},
   "outputs": [
    {
     "name": "stdout",
     "output_type": "stream",
     "text": [
      "大香蕉, 18 斤\n"
     ]
    }
   ],
   "source": [
    "#a, b=\"香蕉\", \"18\"\n",
    "if (int(b)>17):\n",
    "    a=\"大香蕉\"\n",
    "print (a+ \",\" , b, \"斤\" )"
   ]
  },
  {
   "cell_type": "markdown",
   "metadata": {},
   "source": [
    "<h2>迴圈(For/ While)</h2>"
   ]
  },
  {
   "cell_type": "code",
   "execution_count": 8,
   "metadata": {},
   "outputs": [
    {
     "name": "stdout",
     "output_type": "stream",
     "text": [
      "香蕉\t蘋果\t橘子\t拔臘\t"
     ]
    }
   ],
   "source": [
    "X=[\"香蕉\",\"蘋果\",\"橘子\",\"拔臘\"]\n",
    "for s in X:\n",
    "    print (s, end=\"\\t\")"
   ]
  },
  {
   "cell_type": "code",
   "execution_count": 5,
   "metadata": {},
   "outputs": [
    {
     "name": "stdout",
     "output_type": "stream",
     "text": [
      "我要買香蕉 16斤\n"
     ]
    }
   ],
   "source": [
    "e=16\n",
    "print(\"我要買%s %d斤\" %(a,e))"
   ]
  },
  {
   "cell_type": "markdown",
   "metadata": {},
   "source": [
    "<h1>質數判斷</h1>"
   ]
  },
  {
   "cell_type": "code",
   "execution_count": 11,
   "metadata": {},
   "outputs": [
    {
     "name": "stdout",
     "output_type": "stream",
     "text": [
      "請輸入大於1的整數：3\n",
      "3是質數\n",
      "\n"
     ]
    }
   ],
   "source": [
    "n=0\n",
    "while (n<2):\n",
    "    n=int(input(\"請輸入大於1的整數：\"))\n",
    "for i in range (3,int(n/2)+2):  #range 的n實際上是n-1\n",
    "    if(n%i ==0):\n",
    "        print (\"%d不是質數\\n\" %n)\n",
    "        break\n",
    "else:\n",
    "    print (\"%d是質數\\n\" %n)"
   ]
  },
  {
   "cell_type": "code",
   "execution_count": 2,
   "metadata": {},
   "outputs": [
    {
     "name": "stdout",
     "output_type": "stream",
     "text": [
      "0\n"
     ]
    }
   ],
   "source": [
    "a=b=c= 0\n",
    "a=1\n",
    "print (b)"
   ]
  },
  {
   "cell_type": "code",
   "execution_count": 10,
   "metadata": {},
   "outputs": [
    {
     "name": "stdout",
     "output_type": "stream",
     "text": [
      "1\n"
     ]
    }
   ],
   "source": [
    "a1=b1=c1=[0]\n",
    "a1[0]=1\n",
    "print (b1[0])"
   ]
  },
  {
   "cell_type": "code",
   "execution_count": null,
   "metadata": {},
   "outputs": [],
   "source": []
  }
 ],
 "metadata": {
  "kernelspec": {
   "display_name": "Python 3",
   "language": "python",
   "name": "python3"
  },
  "language_info": {
   "codemirror_mode": {
    "name": "ipython",
    "version": 3
   },
   "file_extension": ".py",
   "mimetype": "text/x-python",
   "name": "python",
   "nbconvert_exporter": "python",
   "pygments_lexer": "ipython3",
   "version": "3.6.4"
  }
 },
 "nbformat": 4,
 "nbformat_minor": 2
}
