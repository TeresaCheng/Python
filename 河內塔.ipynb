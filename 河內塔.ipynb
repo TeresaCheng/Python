{
 "cells": [
  {
   "cell_type": "markdown",
   "metadata": {},
   "source": [
    "函數引數定義:\n"
   ]
  },
  {
   "cell_type": "code",
   "execution_count": null,
   "metadata": {},
   "outputs": [],
   "source": [
    "def hanoi(n, a, b, c):\n",
    "    if n == 1:\n",
    "        print(a, '-->', c)\n",
    "    else:\n",
    "        hanoi(n - 1, a, c, b)#起始柱只剩一個盤子時，移動到暫存柱，數目為n-1\n",
    "        hanoi(1    , a, b, c)\n",
    "        hanoi(n - 1, b, a, c)#最後一個盤子被移到目標柱時，將站存柱所有盤子移到目標柱，數目為n-1\n",
    "# 调用\n",
    "hanoi(3, 'A', 'B', 'C')"
   ]
  },
  {
   "cell_type": "code",
   "execution_count": 6,
   "metadata": {},
   "outputs": [
    {
     "name": "stdout",
     "output_type": "stream",
     "text": [
      "A --> B\n",
      "B --> C\n"
     ]
    }
   ],
   "source": [
    "def hanoi(n, a, b, c):\n",
    "    if n == 2:\n",
    "        print(a, '-->', c)\n",
    "    else:\n",
    "        hanoi(n - 1, a, c, b)#起始柱只剩一個盤子時，移動到暫存柱，數目為n-1\n",
    "        #hanoi(1    , a, b, c)\n",
    "        hanoi(n - 1, b, a, c)#最後一個盤子被移到目標柱時，將站存柱所有盤子移到目標柱，數目為n-1\n",
    "# 调用\n",
    "hanoi(3, 'A', 'B', 'C')"
   ]
  },
  {
   "cell_type": "code",
   "execution_count": null,
   "metadata": {},
   "outputs": [],
   "source": []
  }
 ],
 "metadata": {
  "kernelspec": {
   "display_name": "Python 3",
   "language": "python",
   "name": "python3"
  },
  "language_info": {
   "codemirror_mode": {
    "name": "ipython",
    "version": 3
   },
   "file_extension": ".py",
   "mimetype": "text/x-python",
   "name": "python",
   "nbconvert_exporter": "python",
   "pygments_lexer": "ipython3",
   "version": "3.6.4"
  }
 },
 "nbformat": 4,
 "nbformat_minor": 2
}
